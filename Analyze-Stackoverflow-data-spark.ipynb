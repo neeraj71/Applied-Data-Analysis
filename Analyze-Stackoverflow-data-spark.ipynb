{
 "cells": [
  {
   "cell_type": "markdown",
   "metadata": {},
   "source": [
    "# ADA 2018 - Homework 3\n",
    "\n",
    "\n",
    "\n",
    "## Undestanding the StackOverflow community\n"
   ]
  },
  {
   "cell_type": "markdown",
   "metadata": {},
   "source": [
    "StackOverflow is the most popular programming-related Q&A website. It serves as a platform for users to ask and answer questions and to vote questions and answers up or down. Users of StackOverflow can earn reputation points and \"badges\"; for example, a person is awarded 10 reputation points for receiving an \"up\" vote on an answer given to a question, and 5 points for the \"up\" vote on a question asked. Also, users receive badges for their valued contributions, which represents a kind of gamification of the traditional Q&A site. \n",
    "\n",
    "[Learn more about StackOverflow on Wikipedia](https://en.wikipedia.org/wiki/Stack_Overflow)\n",
    "\n",
    "----\n",
    "\n",
    "Dataset link:\n",
    "\n",
    "https://drive.google.com/open?id=1POlGjqzw9v_pZ_bUnXGihOgk45kbvNjB\n",
    "\n",
    "http://iccluster053.iccluster.epfl.ch/Posts.json.zip (mirror 1)\n",
    "\n",
    "https://iloveadatas.com/datasets/Posts.json.zip (mirror 2)\n",
    "\n",
    "Dataset description:\n",
    "\n",
    "* **Id**: Id of the post\n",
    "* **CreationDate**: Creation date of the post (String format)\n",
    "* **PostTypeId**: Type of post (Question = 1, Answer = 2)\n",
    "* **ParentId**: The id of the question. Only present if PostTypeId = 2\n",
    "* **Score**: Points assigned by the users\n",
    "* **Tags**: Tags of the question. Only present if PostTypeId = 1\n",
    "* **Title**: Only present if PostTypeId = 1\n",
    "* **ViewCount**: Only present if PostTypeId = 1\n",
    "\n",
    "The dataset format is JSON. Here are examples of a question and an answer:\n",
    "\n",
    "Question:\n",
    "```json\n",
    "{\n",
    "    \"Id\": 10130734,\n",
    "    \"CreationDate\": \"2012-04-12T19:51:25.793+02:00\",\n",
    "    \"PostTypeId\": 1,\n",
    "    \"Score\": 4,\n",
    "    \"Tags\": \"<python><pandas>\",\n",
    "    \"Title\": \"Best way to insert a new value\",\n",
    "    \"ViewCount\": 3803\n",
    "}\n",
    "```\n",
    "\n",
    "Answer:\n",
    "```json\n",
    "{  \n",
    "   \"CreationDate\":\"2010-10-26T03:19:05.063+02:00\",\n",
    "   \"Id\":4020440,\n",
    "   \"ParentId\":4020214,\n",
    "   \"PostTypeId\":2,\n",
    "   \"Score\":1\n",
    "}\n",
    "```\n",
    "\n",
    "----\n",
    "Useful resources:\n",
    "\n",
    "**Spark SQL, DataFrames and Datasets Guide**\n",
    "\n",
    "https://spark.apache.org/docs/latest/sql-programming-guide.html\n",
    "\n",
    "**Database schema documentation for the public data dump**\n",
    "\n",
    "https://meta.stackexchange.com/questions/2677/database-schema-documentation-for-the-public-data-dump-and-sede\n",
    "\n",
    "----\n",
    "\n",
    "**Note:** Use Spark where possible. Some computations can take more than 10 minutes on a common notebook. Consider to save partial results on disk."
   ]
  },
  {
   "cell_type": "code",
   "execution_count": 1,
   "metadata": {},
   "outputs": [],
   "source": [
    "# Add your imports here\n",
    "import pandas as pd\n",
    "import numpy as np\n",
    "import seaborn as sns\n",
    "import scipy as sp\n",
    "import findspark\n",
    "sns.set()\n",
    "\n",
    "from pyspark.sql import *\n",
    "%matplotlib inline\n",
    "from datetime import datetime\n",
    "from dateutil.parser import parse\n",
    "import matplotlib.pyplot as plt\n",
    "from pyspark.sql.functions import col\n",
    "from pyspark.sql.functions import unix_timestamp\n",
    "from pyspark.sql.functions import regexp_replace\n",
    "from pyspark.sql.functions import desc\n",
    "import pyspark.sql.functions as function\n",
    "spark = SparkSession.builder.getOrCreate()"
   ]
  },
  {
   "cell_type": "markdown",
   "metadata": {},
   "source": [
    "### Task A: Convert the dataset to a more convenient format\n",
    "As a warm-up task (and to avoid to warm up your laptop too much), load the dataset into a Spark dataframe, show the content, and save it in the _Parquet_ format. Use this step to convert the fields to a more convenient form.\n",
    "\n",
    "Answer the following questions:\n",
    "\n",
    "1. How many questions have been asked on StackOverflow?\n",
    "2. How many answers have been given?\n",
    "3. What is the percentage of questions with a score of 0?\n",
    "\n",
    "**Hint:** The next tasks involve a time difference. Consider storing time in numeric format."
   ]
  },
  {
   "cell_type": "code",
   "execution_count": 2,
   "metadata": {},
   "outputs": [
    {
     "name": "stdout",
     "output_type": "stream",
     "text": [
      "+--------------------+-------+--------+----------+-----+--------------------+--------------------+---------+\n",
      "|        CreationDate|     Id|ParentId|PostTypeId|Score|                Tags|               Title|ViewCount|\n",
      "+--------------------+-------+--------+----------+-----+--------------------+--------------------+---------+\n",
      "|2010-10-26T03:17:...|4020437|    null|         1|    0|<asp.net-mvc><jqu...|display jquery di...|      510|\n",
      "|2010-10-26T03:18:...|4020438|    null|         1|    0|<javascript><html...|Why can only my m...|       62|\n",
      "|2010-10-26T03:19:...|4020440| 4020214|         2|    1|                null|                null|     null|\n",
      "|2010-10-26T03:19:...|4020441| 3938154|         2|    0|                null|                null|     null|\n",
      "|2010-10-26T03:20:...|4020443| 4020419|         2|  324|                null|                null|     null|\n",
      "|2010-10-26T03:20:...|4020444| 4020433|         2|    0|                null|                null|     null|\n",
      "|2010-10-26T03:21:...|4020445|    null|         1|    0|<c++><visual-stud...|Communicating ove...|     1170|\n",
      "|2010-10-26T03:21:...|4020447| 4020433|         2|    1|                null|                null|     null|\n",
      "|2010-10-26T03:21:...|4020448| 4020437|         2|    1|                null|                null|     null|\n",
      "|2010-10-26T03:21:...|4020449|    null|         1|    0|<c#><textbox><fil...|C# Text Box File ...|      845|\n",
      "+--------------------+-------+--------+----------+-----+--------------------+--------------------+---------+\n",
      "only showing top 10 rows\n",
      "\n"
     ]
    }
   ],
   "source": [
    "# Let's load the json file into a spark dataframe\n",
    "df = spark.read.json(\"Posts.json\")\n",
    "df.show(10)"
   ]
  },
  {
   "cell_type": "code",
   "execution_count": 3,
   "metadata": {},
   "outputs": [
    {
     "data": {
      "text/plain": [
       "40839832"
      ]
     },
     "execution_count": 3,
     "metadata": {},
     "output_type": "execute_result"
    }
   ],
   "source": [
    "# Check the size of the dataset\n",
    "df.count()"
   ]
  },
  {
   "cell_type": "code",
   "execution_count": 4,
   "metadata": {},
   "outputs": [
    {
     "data": {
      "text/plain": [
       "[('CreationDate', 'string'),\n",
       " ('Id', 'bigint'),\n",
       " ('ParentId', 'bigint'),\n",
       " ('PostTypeId', 'bigint'),\n",
       " ('Score', 'bigint'),\n",
       " ('Tags', 'string'),\n",
       " ('Title', 'string'),\n",
       " ('ViewCount', 'bigint')]"
      ]
     },
     "execution_count": 4,
     "metadata": {},
     "output_type": "execute_result"
    }
   ],
   "source": [
    "# Check the type of each attribute in the dataframe\n",
    "df.dtypes"
   ]
  },
  {
   "cell_type": "code",
   "execution_count": 5,
   "metadata": {},
   "outputs": [
    {
     "name": "stdout",
     "output_type": "stream",
     "text": [
      "+----------+--------+\n",
      "|PostTypeId|   count|\n",
      "+----------+--------+\n",
      "|         1|15647060|\n",
      "|         2|25192772|\n",
      "+----------+--------+\n",
      "\n"
     ]
    }
   ],
   "source": [
    "# Check if there is any datapoint that is not a question nor an answer\n",
    "df.groupby('PostTypeId').count().show()"
   ]
  },
  {
   "cell_type": "code",
   "execution_count": 7,
   "metadata": {},
   "outputs": [
    {
     "name": "stdout",
     "output_type": "stream",
     "text": [
      "The number of questions in the dataset is 15647060 out of a total of 40839832.\n",
      "The number of answers in the dataset is 25192772 out of a total of 40839832.\n",
      "The total number of rows is coherent with the number of questions and answers.\n",
      "The percentage of questions with 0 score is 17.832380%.\n"
     ]
    }
   ],
   "source": [
    "#We filter the dataset based on the PostTypeId to calculate the total number of questions an answers.\n",
    "num_questions = df.where(\"PostTypeId=1\").count() # same as df.rdd.filter(lambda r: r[3] == 1).count()\n",
    "num_answers = df.where(\"PostTypeId=2\").count()# same as df.rdd.filter(lambda r: r[3] == 2).count()\n",
    "num_total = df.count()\n",
    "print('The number of questions in the dataset is %d out of a total of %d.'%(num_questions,num_total))\n",
    "print('The number of answers in the dataset is %d out of a total of %d.'%(num_answers,num_total))\n",
    "assert(num_total == num_questions+num_answers)\n",
    "print('The total number of rows is coherent with the number of questions and answers.')\n",
    "# We add the condition of 0 score in the filtering\n",
    "num_ques_0 = df.where((col(\"PostTypeId\")==1) & (col(\"Score\")==0)).count() #same as df.rdd.filter(lambda r: r[3] == 1 and r[4]==0).count()\n",
    "print('The percentage of questions with 0 score is %f%%.' %(num_ques_0*100/num_total))"
   ]
  },
  {
   "cell_type": "code",
   "execution_count": 8,
   "metadata": {},
   "outputs": [
    {
     "name": "stdout",
     "output_type": "stream",
     "text": [
      "+-----------------------------+\n",
      "|CreationDate                 |\n",
      "+-----------------------------+\n",
      "|2010-10-26T03:17:55.603+02:00|\n",
      "|2010-10-26T03:18:17.873+02:00|\n",
      "|2010-10-26T03:19:05.063+02:00|\n",
      "|2010-10-26T03:19:33.530+02:00|\n",
      "|2010-10-26T03:20:12.940+02:00|\n",
      "|2010-10-26T03:20:22.687+02:00|\n",
      "|2010-10-26T03:21:12.657+02:00|\n",
      "|2010-10-26T03:21:40.893+02:00|\n",
      "|2010-10-26T03:21:42.413+02:00|\n",
      "|2010-10-26T03:21:46.280+02:00|\n",
      "+-----------------------------+\n",
      "only showing top 10 rows\n",
      "\n"
     ]
    }
   ],
   "source": [
    "#Checkout the format of the timestamps before converting them\n",
    "df.select('CreationDate').show(10,False)"
   ]
  },
  {
   "cell_type": "code",
   "execution_count": 9,
   "metadata": {},
   "outputs": [
    {
     "name": "stdout",
     "output_type": "stream",
     "text": [
      "+-------+--------+----------+-----+--------------------+--------------------+--------------------+---------+\n",
      "|     Id|ParentId|PostTypeId|Score|                Tags|                Time|               Title|ViewCount|\n",
      "+-------+--------+----------+-----+--------------------+--------------------+--------------------+---------+\n",
      "|4020437|    null|         1|    0|<asp.net-mvc><jqu...|2010-10-26 03:17:...|display jquery di...|      510|\n",
      "|4020438|    null|         1|    0|<javascript><html...|2010-10-26 03:18:...|Why can only my m...|       62|\n",
      "|4020440| 4020214|         2|    1|                null|2010-10-26 03:19:...|                null|     null|\n",
      "|4020441| 3938154|         2|    0|                null|2010-10-26 03:19:...|                null|     null|\n",
      "|4020443| 4020419|         2|  324|                null|2010-10-26 03:20:...|                null|     null|\n",
      "|4020444| 4020433|         2|    0|                null|2010-10-26 03:20:...|                null|     null|\n",
      "|4020445|    null|         1|    0|<c++><visual-stud...|2010-10-26 03:21:...|Communicating ove...|     1170|\n",
      "|4020447| 4020433|         2|    1|                null|2010-10-26 03:21:...|                null|     null|\n",
      "|4020448| 4020437|         2|    1|                null|2010-10-26 03:21:...|                null|     null|\n",
      "|4020449|    null|         1|    0|<c#><textbox><fil...|2010-10-26 03:21:...|C# Text Box File ...|      845|\n",
      "+-------+--------+----------+-----+--------------------+--------------------+--------------------+---------+\n",
      "only showing top 10 rows\n",
      "\n"
     ]
    }
   ],
   "source": [
    "# Converting time to datetimes\n",
    "def convert_time(string):\n",
    "    return parse(string)\n",
    "\n",
    "# df is a spark dataframe containing all data after filtering and arranging time.\n",
    "# We also discard the column with corrupt data\n",
    "df = df.rdd.map(lambda r: Row(Time=convert_time(r[0]),Id=r[1],ParentId=r[2],PostTypeId=r[3],Score=r[4],\n",
    "                                     Tags=r[5],Title=r[6],ViewCount=r[7])).toDF()\n",
    "df.show(10)"
   ]
  },
  {
   "cell_type": "code",
   "execution_count": null,
   "metadata": {
    "scrolled": false
   },
   "outputs": [],
   "source": [
    "#Let's now transform the spark dataframe to a Parquet format\n",
    "df.write.parquet(\"df.parquet\")"
   ]
  },
  {
   "cell_type": "markdown",
   "metadata": {},
   "source": [
    "**Hint:** Load the dataset from the Parquet file for the next tasks."
   ]
  },
  {
   "cell_type": "markdown",
   "metadata": {},
   "source": [
    "### Task B: What are the 10 most popular tags?\n",
    "\n",
    "What are the most popular tags in StackOverflow? Use Spark to extract the information you need, and answer the following questions with Pandas and Matplotlib (or Seaborn):\n",
    "\n",
    "1. What is the proportion of tags that appear in fewer than 100 questions?\n",
    "2. Plot the distribution of the tag counts using an appropriate representation.\n",
    "3. Plot a bar chart with the number of questions for the 10 most popular tags.\n",
    "\n",
    "For each task describe your findings briefly."
   ]
  },
  {
   "cell_type": "markdown",
   "metadata": {},
   "source": [
    "## 1. What is the proportion of tags that appear in fewer than 100 questions?"
   ]
  },
  {
   "cell_type": "code",
   "execution_count": 10,
   "metadata": {},
   "outputs": [],
   "source": [
    "#Clear memory to avoid overload\n",
    "%reset -f \n",
    "# If executed, you need to import the libraries/packages again\n",
    "import pandas as pd\n",
    "import numpy as np\n",
    "import seaborn as sns\n",
    "import scipy as sp\n",
    "import findspark\n",
    "sns.set()\n",
    "\n",
    "from pyspark.sql import *\n",
    "%matplotlib inline\n",
    "from datetime import datetime\n",
    "from dateutil.parser import parse\n",
    "import matplotlib.pyplot as plt\n",
    "from pyspark.sql.functions import col\n",
    "from pyspark.sql.functions import split, explode, udf\n",
    "from pyspark.sql.functions import unix_timestamp\n",
    "from pyspark.sql.functions import regexp_replace\n",
    "from pyspark.sql.functions import desc\n",
    "import pyspark.sql.functions as function\n",
    "spark = SparkSession.builder.getOrCreate()"
   ]
  },
  {
   "cell_type": "code",
   "execution_count": 11,
   "metadata": {},
   "outputs": [],
   "source": [
    "# Load the dataset from the Parquet file\n",
    "df =spark.read.parquet(\"df.parquet\")"
   ]
  },
  {
   "cell_type": "code",
   "execution_count": 12,
   "metadata": {},
   "outputs": [
    {
     "data": {
      "text/plain": [
       "40839832"
      ]
     },
     "execution_count": 12,
     "metadata": {},
     "output_type": "execute_result"
    }
   ],
   "source": [
    "df.count()"
   ]
  },
  {
   "cell_type": "code",
   "execution_count": 13,
   "metadata": {},
   "outputs": [
    {
     "name": "stdout",
     "output_type": "stream",
     "text": [
      "+-----------------------------------+\n",
      "|Tags                               |\n",
      "+-----------------------------------+\n",
      "|null                               |\n",
      "|null                               |\n",
      "|<flash><react-native>              |\n",
      "|null                               |\n",
      "|null                               |\n",
      "|null                               |\n",
      "|<postgresql><formatting><plpgsql>  |\n",
      "|null                               |\n",
      "|<python><websocket><python-asyncio>|\n",
      "|null                               |\n",
      "+-----------------------------------+\n",
      "only showing top 10 rows\n",
      "\n"
     ]
    }
   ],
   "source": [
    "# Let's checkout the Tags column and see their format.\n",
    "df.select('Tags').show(10,False)"
   ]
  },
  {
   "cell_type": "code",
   "execution_count": 14,
   "metadata": {},
   "outputs": [
    {
     "name": "stdout",
     "output_type": "stream",
     "text": [
      "+--------+--------+----------+-----+-------------------------------------------------------------------------+-----------------------+------------------------------------------------------------------------------------------+---------+\n",
      "|Id      |ParentId|PostTypeId|Score|Tags                                                                     |Time                   |Title                                                                                     |ViewCount|\n",
      "+--------+--------+----------+-----+-------------------------------------------------------------------------+-----------------------+------------------------------------------------------------------------------------------+---------+\n",
      "|45740348|null    |1         |2    |<flash><react-native>                                                    |2017-08-17 16:20:28.873|Is it possible to embed Adobe flash into a react-native app?                              |143      |\n",
      "|45740355|null    |1         |1    |<postgresql><formatting><plpgsql>                                        |2017-08-17 16:20:58.597|Remove trailing zeroes from number returned by trunc() function                           |444      |\n",
      "|45740358|null    |1         |0    |<python><websocket><python-asyncio>                                      |2017-08-17 16:21:08.42 |Python websockets get stuck                                                               |280      |\n",
      "|45740363|null    |1         |0    |<facebook><facebook-javascript-sdk><share><facebook-opengraph><opengraph>|2017-08-17 16:21:32.037|Image meta tag not correctly picked up by Facebook                                        |97       |\n",
      "|45740371|null    |1         |1    |<mongodb><shell>                                                         |2017-08-17 16:21:46.27 |Using Mongo-cli to connect to an OpenShift database                                       |185      |\n",
      "|45740372|null    |1         |0    |<impala>                                                                 |2017-08-17 16:21:51.437|Impact of \"INVALIDATE METADATA\" on \"COMPUTE STATS\" in Impala                              |327      |\n",
      "|45740378|null    |1         |1    |<java><android><retrofit2><dagger-2><android-annotations>                |2017-08-17 16:21:57.477|I getting the following error using Dagger 2, Retrofit2 and AndroidAnnotations            |68       |\n",
      "|45740379|null    |1         |0    |<ssrs-2008><jobs><subscription>                                          |2017-08-17 16:22:05.347|Job ID owned by SSRS cannot match any Subscriptions on SSRS                               |79       |\n",
      "|45740381|null    |1         |0    |<postgresql>                                                             |2017-08-17 16:22:10.393|How to obtain an indefinite lock on database in Rails (postgres database) for QA purposes?|48       |\n",
      "|45740384|null    |1         |0    |<ios><swift><loops><for-loop>                                            |2017-08-17 16:22:13.697|Is there a way to use a loop to tag mulitple items (swift3)                               |46       |\n",
      "+--------+--------+----------+-----+-------------------------------------------------------------------------+-----------------------+------------------------------------------------------------------------------------------+---------+\n",
      "only showing top 10 rows\n",
      "\n"
     ]
    }
   ],
   "source": [
    "# drop all rows where we don't have no tags since we're concerned by the questions tags.\n",
    "df_questions = df.where(col(\"Tags\").isNotNull())\n",
    "# assert that all the rows in the df_questions dataframe are questions\n",
    "assert(df_questions.where(\"PostTypeId=1\").count()==df_questions.count())\n",
    "df_questions.show(10,False)"
   ]
  },
  {
   "cell_type": "code",
   "execution_count": 15,
   "metadata": {},
   "outputs": [],
   "source": [
    "# Since the dataframe with tags exploded to rows is needed in the next questions, it makes sense to create a function\n",
    "# to do just that\n",
    "def align_tags(df):\n",
    "    # drop all rows where we don't have no tags since we're concerned by the questions tags.\n",
    "    df_questions = df.where(col(\"Tags\").isNotNull())\n",
    "    df_aligned = df_questions.withColumn('Tags_aligned',explode(split('Tags','><')))\n",
    "    df_aligned = df_aligned.withColumn(\"Tags_aligned\", regexp_replace(\"Tags_aligned\", \"<\", \"\"))\n",
    "    df_aligned = df_aligned.withColumn(\"Tags_aligned\", regexp_replace(\"Tags_aligned\", \">\", \"\"))\n",
    "    return df_aligned"
   ]
  },
  {
   "cell_type": "code",
   "execution_count": 16,
   "metadata": {},
   "outputs": [],
   "source": [
    "# Based on the snippet of the tags, we have to seperate each tag from the same column and remove the extra caracters < and >.\n",
    "# It's easy to see that each tag string is between <> so we split them, put them in different rows and\n",
    "# then remove extra caracters.\n",
    "# We groupby based on the Tags name and the output is then sorted for convenience and transformed \n",
    "# to a pandas dataframe for further processing.\n",
    "\n",
    "df_aligned = align_tags(df)\n",
    "tags_df = df_aligned.groupBy(['Tags_aligned']).count().sort(desc(\"count\")).toPandas()\n",
    "\n",
    "# We also implemented the same method using RDD but we prefer using the dataframe API since it's faster.\n",
    "\n",
    "#tags_df = df.withColumn('col4',explode(split('Tags','><')))\\\n",
    "#.rdd.map(lambda r: r[9].translate({ord(i):None for i in '<>'})).map(lambda r: (r,1)).reduceByKey(lambda a,b: a+b)\\\n",
    "#.sortBy(lambda r: r[1], ascending = False).toDF().toPandas()"
   ]
  },
  {
   "cell_type": "code",
   "execution_count": 17,
   "metadata": {},
   "outputs": [],
   "source": [
    "tags_df.columns=['Tags_aligned','Count']"
   ]
  },
  {
   "cell_type": "code",
   "execution_count": 18,
   "metadata": {},
   "outputs": [
    {
     "name": "stdout",
     "output_type": "stream",
     "text": [
      "The percentage of tags that show up in less than a 100 questions is 67.979394% \n"
     ]
    }
   ],
   "source": [
    "fewer_than_100_df = tags_df[tags_df['Count']<100].reset_index(drop=True)\n",
    "fewer_than_100_percentage = len(fewer_than_100_df)*100/len(tags_df)\n",
    "print('The percentage of tags that show up in less than a 100 questions is %f%% '%(fewer_than_100_percentage))"
   ]
  },
  {
   "cell_type": "code",
   "execution_count": 19,
   "metadata": {},
   "outputs": [
    {
     "data": {
      "text/html": [
       "<div>\n",
       "<style scoped>\n",
       "    .dataframe tbody tr th:only-of-type {\n",
       "        vertical-align: middle;\n",
       "    }\n",
       "\n",
       "    .dataframe tbody tr th {\n",
       "        vertical-align: top;\n",
       "    }\n",
       "\n",
       "    .dataframe thead th {\n",
       "        text-align: right;\n",
       "    }\n",
       "</style>\n",
       "<table border=\"1\" class=\"dataframe\">\n",
       "  <thead>\n",
       "    <tr style=\"text-align: right;\">\n",
       "      <th></th>\n",
       "      <th>Tags_aligned</th>\n",
       "      <th>Count</th>\n",
       "    </tr>\n",
       "  </thead>\n",
       "  <tbody>\n",
       "    <tr>\n",
       "      <th>0</th>\n",
       "      <td>javascript</td>\n",
       "      <td>1585495</td>\n",
       "    </tr>\n",
       "    <tr>\n",
       "      <th>1</th>\n",
       "      <td>java</td>\n",
       "      <td>1352735</td>\n",
       "    </tr>\n",
       "    <tr>\n",
       "      <th>2</th>\n",
       "      <td>c#</td>\n",
       "      <td>1172492</td>\n",
       "    </tr>\n",
       "    <tr>\n",
       "      <th>3</th>\n",
       "      <td>php</td>\n",
       "      <td>1136082</td>\n",
       "    </tr>\n",
       "    <tr>\n",
       "      <th>4</th>\n",
       "      <td>android</td>\n",
       "      <td>1088811</td>\n",
       "    </tr>\n",
       "    <tr>\n",
       "      <th>5</th>\n",
       "      <td>python</td>\n",
       "      <td>954401</td>\n",
       "    </tr>\n",
       "    <tr>\n",
       "      <th>6</th>\n",
       "      <td>jquery</td>\n",
       "      <td>886982</td>\n",
       "    </tr>\n",
       "    <tr>\n",
       "      <th>7</th>\n",
       "      <td>html</td>\n",
       "      <td>725289</td>\n",
       "    </tr>\n",
       "    <tr>\n",
       "      <th>8</th>\n",
       "      <td>ios</td>\n",
       "      <td>551843</td>\n",
       "    </tr>\n",
       "    <tr>\n",
       "      <th>9</th>\n",
       "      <td>c++</td>\n",
       "      <td>536267</td>\n",
       "    </tr>\n",
       "  </tbody>\n",
       "</table>\n",
       "</div>"
      ],
      "text/plain": [
       "  Tags_aligned    Count\n",
       "0   javascript  1585495\n",
       "1         java  1352735\n",
       "2           c#  1172492\n",
       "3          php  1136082\n",
       "4      android  1088811\n",
       "5       python   954401\n",
       "6       jquery   886982\n",
       "7         html   725289\n",
       "8          ios   551843\n",
       "9          c++   536267"
      ]
     },
     "execution_count": 19,
     "metadata": {},
     "output_type": "execute_result"
    }
   ],
   "source": [
    "tags_df.head(10)"
   ]
  },
  {
   "cell_type": "code",
   "execution_count": null,
   "metadata": {},
   "outputs": [],
   "source": [
    "# We wanted to save the dataframe with exploded tags in a parquet format but we always get memory limit problems."
   ]
  },
  {
   "cell_type": "markdown",
   "metadata": {},
   "source": [
    "## 2. Plot the distribution of the tag counts using an appropriate representation."
   ]
  },
  {
   "cell_type": "code",
   "execution_count": 25,
   "metadata": {},
   "outputs": [
    {
     "data": {
      "image/png": "[encoded data removed]",
      "text/plain": [
       "<Figure size 432x288 with 1 Axes>"
      ]
     },
     "metadata": {
      "needs_background": "light"
     },
     "output_type": "display_data"
    }
   ],
   "source": [
    "# log scale because there are only a few tags with very large counts\n",
    "bins= np.arange(0,1586000,1000)\n",
    "tags_df.Count.plot(kind='hist',bins =bins,log = True)\n",
    "plt.show()"
   ]
  },
  {
   "cell_type": "markdown",
   "metadata": {},
   "source": [
    "## 3. Plot a bar chart with the number of questions for the 10 most popular tags."
   ]
  },
  {
   "cell_type": "code",
   "execution_count": 26,
   "metadata": {},
   "outputs": [
    {
     "data": {
      "image/png": "[encoded data removed]",
      "text/plain": [
       "<Figure size 432x288 with 1 Axes>"
      ]
     },
     "metadata": {
      "needs_background": "light"
     },
     "output_type": "display_data"
    }
   ],
   "source": [
    "# Since our dataframe is already sorted, we can just take the first 10 rows to get the number of questions (counts) \n",
    "# for the most popular tags\n",
    "tags_df[:10].plot.bar(x='Tags_aligned',y='Count',rot=0)\n",
    "plt.show()"
   ]
  },
  {
   "cell_type": "markdown",
   "metadata": {},
   "source": [
    "### Task C: View-score relation\n",
    "\n",
    "We want to investigate the correlation between the view count and the score of questions.\n",
    "\n",
    "1. Get the view count and score of the questions with tag ```random-effects``` and visualize the relation between these two variables using an appropriate plot.\n",
    "2. Are these two variables correlated? Use the Pearson coefficient to validate your hypothesis. Discuss your findings in detail.\n",
    "\n",
    "**Hint:** Inspect the data visually before drawing your conclusions."
   ]
  },
  {
   "cell_type": "markdown",
   "metadata": {},
   "source": [
    "*Solution Task C*"
   ]
  },
  {
   "cell_type": "code",
   "execution_count": 27,
   "metadata": {},
   "outputs": [],
   "source": [
    "# If memory is overloaded, you can load erase the variables, load the libraries and 'df_aligned.parquet' \n",
    "# which is the dataset with one tag per row\n",
    "\n",
    "#Clear memory to avoid overload\n",
    "%reset -f \n",
    "# If executed, you need to import the libraries/packages again\n",
    "import pandas as pd\n",
    "import numpy as np\n",
    "import seaborn as sns\n",
    "import scipy as sp\n",
    "import findspark\n",
    "sns.set()\n",
    "\n",
    "from pyspark.sql import *\n",
    "%matplotlib inline\n",
    "from datetime import datetime\n",
    "from dateutil.parser import parse\n",
    "import matplotlib.pyplot as plt\n",
    "from pyspark.sql.functions import col\n",
    "from pyspark.sql.functions import split, explode, udf\n",
    "from pyspark.sql.functions import unix_timestamp\n",
    "from pyspark.sql.functions import regexp_replace\n",
    "from pyspark.sql.functions import desc\n",
    "import pyspark.sql.functions as function\n",
    "spark = SparkSession.builder.getOrCreate()\n",
    "\n",
    "# Since the dataframe with tags exploded to rows is needed in the next questions, it makes sense to create a function\n",
    "# to do just that\n",
    "def align_tags(df):\n",
    "    # drop all rows where we don't have no tags since we're concerned by the questions tags.\n",
    "    df_questions = df.where(col(\"Tags\").isNotNull())\n",
    "    df_aligned = df_questions.withColumn('Tags_aligned',explode(split('Tags','><')))\n",
    "    df_aligned = df_aligned.withColumn(\"Tags_aligned\", regexp_replace(\"Tags_aligned\", \"<\", \"\"))\n",
    "    df_aligned = df_aligned.withColumn(\"Tags_aligned\", regexp_replace(\"Tags_aligned\", \">\", \"\"))\n",
    "    return df_aligned"
   ]
  },
  {
   "cell_type": "code",
   "execution_count": 28,
   "metadata": {},
   "outputs": [],
   "source": [
    "# Load the dataset from the Parquet file\n",
    "df =spark.read.parquet(\"df.parquet\")\n",
    "# Put every tag in a new row\n",
    "df_aligned = align_tags(df)"
   ]
  },
  {
   "cell_type": "code",
   "execution_count": 29,
   "metadata": {},
   "outputs": [
    {
     "name": "stdout",
     "output_type": "stream",
     "text": [
      "+---------+-----+--------------------+----------+\n",
      "|ViewCount|Score|        Tags_aligned|PostTypeId|\n",
      "+---------+-----+--------------------+----------+\n",
      "|      143|    2|               flash|         1|\n",
      "|      143|    2|        react-native|         1|\n",
      "|      444|    1|          postgresql|         1|\n",
      "|      444|    1|          formatting|         1|\n",
      "|      444|    1|             plpgsql|         1|\n",
      "|      280|    0|              python|         1|\n",
      "|      280|    0|           websocket|         1|\n",
      "|      280|    0|      python-asyncio|         1|\n",
      "|       97|    0|            facebook|         1|\n",
      "|       97|    0|facebook-javascri...|         1|\n",
      "|       97|    0|               share|         1|\n",
      "|       97|    0|  facebook-opengraph|         1|\n",
      "|       97|    0|           opengraph|         1|\n",
      "|      185|    1|             mongodb|         1|\n",
      "|      185|    1|               shell|         1|\n",
      "|      327|    0|              impala|         1|\n",
      "|       68|    1|                java|         1|\n",
      "|       68|    1|             android|         1|\n",
      "|       68|    1|           retrofit2|         1|\n",
      "|       68|    1|            dagger-2|         1|\n",
      "+---------+-----+--------------------+----------+\n",
      "only showing top 20 rows\n",
      "\n"
     ]
    }
   ],
   "source": [
    "# We use the spark dataframe with the aligned tags to extract the columns we need\n",
    "df_newtags_ = df_aligned.select(['ViewCount', 'Score', 'Tags_aligned', 'PostTypeId'])\n",
    "df_newtags_.show()"
   ]
  },
  {
   "cell_type": "code",
   "execution_count": 30,
   "metadata": {},
   "outputs": [
    {
     "data": {
      "text/html": [
       "<div>\n",
       "<style scoped>\n",
       "    .dataframe tbody tr th:only-of-type {\n",
       "        vertical-align: middle;\n",
       "    }\n",
       "\n",
       "    .dataframe tbody tr th {\n",
       "        vertical-align: top;\n",
       "    }\n",
       "\n",
       "    .dataframe thead th {\n",
       "        text-align: right;\n",
       "    }\n",
       "</style>\n",
       "<table border=\"1\" class=\"dataframe\">\n",
       "  <thead>\n",
       "    <tr style=\"text-align: right;\">\n",
       "      <th></th>\n",
       "      <th>ViewCount</th>\n",
       "      <th>Score</th>\n",
       "      <th>Tags_aligned</th>\n",
       "      <th>PostTypeId</th>\n",
       "    </tr>\n",
       "  </thead>\n",
       "  <tbody>\n",
       "    <tr>\n",
       "      <th>0</th>\n",
       "      <td>12</td>\n",
       "      <td>0</td>\n",
       "      <td>random-effects</td>\n",
       "      <td>1</td>\n",
       "    </tr>\n",
       "    <tr>\n",
       "      <th>1</th>\n",
       "      <td>495</td>\n",
       "      <td>0</td>\n",
       "      <td>random-effects</td>\n",
       "      <td>1</td>\n",
       "    </tr>\n",
       "    <tr>\n",
       "      <th>2</th>\n",
       "      <td>220</td>\n",
       "      <td>0</td>\n",
       "      <td>random-effects</td>\n",
       "      <td>1</td>\n",
       "    </tr>\n",
       "    <tr>\n",
       "      <th>3</th>\n",
       "      <td>21</td>\n",
       "      <td>0</td>\n",
       "      <td>random-effects</td>\n",
       "      <td>1</td>\n",
       "    </tr>\n",
       "    <tr>\n",
       "      <th>4</th>\n",
       "      <td>126</td>\n",
       "      <td>5</td>\n",
       "      <td>random-effects</td>\n",
       "      <td>1</td>\n",
       "    </tr>\n",
       "  </tbody>\n",
       "</table>\n",
       "</div>"
      ],
      "text/plain": [
       "   ViewCount  Score    Tags_aligned  PostTypeId\n",
       "0         12      0  random-effects           1\n",
       "1        495      0  random-effects           1\n",
       "2        220      0  random-effects           1\n",
       "3         21      0  random-effects           1\n",
       "4        126      5  random-effects           1"
      ]
     },
     "execution_count": 30,
     "metadata": {},
     "output_type": "execute_result"
    }
   ],
   "source": [
    "# Filter the dataframe to get only rows with the tag random-effects and convert to pandas df for viz\n",
    "re_df = df_newtags_.where(df_newtags_.Tags_aligned==\"random-effects\").toPandas()\n",
    "re_df.head()"
   ]
  },
  {
   "cell_type": "code",
   "execution_count": 31,
   "metadata": {},
   "outputs": [
    {
     "data": {
      "text/plain": [
       "100"
      ]
     },
     "execution_count": 31,
     "metadata": {},
     "output_type": "execute_result"
    }
   ],
   "source": [
    "# Number of questions with the tag random-effects\n",
    "len(re_df)"
   ]
  },
  {
   "cell_type": "code",
   "execution_count": 32,
   "metadata": {},
   "outputs": [
    {
     "data": {
      "image/png": "[encoded data removed]",
      "text/plain": [
       "<Figure size 432x288 with 1 Axes>"
      ]
     },
     "metadata": {
      "needs_background": "light"
     },
     "output_type": "display_data"
    }
   ],
   "source": [
    "# Visualize relationship between these two variables\n",
    "x = re_df.ViewCount.values\n",
    "y = re_df.Score.values\n",
    "ax = plt.figure()\n",
    "plt.scatter(x, y) # s=2, c=2, alpha=0.5\n",
    "#plt.xlim(-1000,10000)\n",
    "#plt.ylim(-10,10)\n",
    "plt.show()"
   ]
  },
  {
   "cell_type": "code",
   "execution_count": 33,
   "metadata": {},
   "outputs": [],
   "source": [
    "# remove outlier\n",
    "df_newtags_pd_out = re_df.copy()\n",
    "df_newtags_pd_out['ViewCount'] = df_newtags_pd_out[df_newtags_pd_out['ViewCount'] < 20000]['ViewCount']\n",
    "df_newtags_pd_out = df_newtags_pd_out.dropna()"
   ]
  },
  {
   "cell_type": "code",
   "execution_count": 34,
   "metadata": {},
   "outputs": [
    {
     "data": {
      "image/png": "[encoded data removed]",
      "text/plain": [
       "<Figure size 432x288 with 1 Axes>"
      ]
     },
     "metadata": {
      "needs_background": "light"
     },
     "output_type": "display_data"
    }
   ],
   "source": [
    "# Visualize relationship between these two variables\n",
    "x = df_newtags_pd_out.ViewCount.values\n",
    "y = df_newtags_pd_out.Score.values\n",
    "ax = plt.figure()\n",
    "plt.scatter(x, y) # s=2, c=2, alpha=0.5\n",
    "#plt.xlim(-1000,10000)\n",
    "#plt.ylim(-10,10)\n",
    "plt.show()"
   ]
  },
  {
   "cell_type": "code",
   "execution_count": 35,
   "metadata": {},
   "outputs": [
    {
     "data": {
      "text/plain": [
       "(0.4393894600749448, 6.000994687565495e-06)"
      ]
     },
     "execution_count": 35,
     "metadata": {},
     "output_type": "execute_result"
    }
   ],
   "source": [
    "# Evaluation of the correlation\n",
    "import scipy\n",
    "from scipy import stats\n",
    "scipy.stats.pearsonr(x, y)"
   ]
  },
  {
   "cell_type": "code",
   "execution_count": 36,
   "metadata": {},
   "outputs": [
    {
     "data": {
      "text/plain": [
       "array([[1.        , 0.43938946],\n",
       "       [0.43938946, 1.        ]])"
      ]
     },
     "execution_count": 36,
     "metadata": {},
     "output_type": "execute_result"
    }
   ],
   "source": [
    "np.corrcoef(x,y)"
   ]
  },
  {
   "cell_type": "code",
   "execution_count": null,
   "metadata": {},
   "outputs": [],
   "source": [
    "# pearson should apply to normal distrbs, check distribs for viewcount and score\n",
    "# pearson coeff is 0.43 which means it's not linear but there is a correlation"
   ]
  },
  {
   "cell_type": "markdown",
   "metadata": {},
   "source": [
    "very low relationship - (with outlier very high) "
   ]
  },
  {
   "cell_type": "markdown",
   "metadata": {},
   "source": [
    "### Task D: What are the tags with the fastest first answer?\n",
    "\n",
    "What are the tags that have the fastest response time from the community? We define the response time as the difference in seconds between the timestamps of the question and of the first answer received.\n",
    "\n",
    "1. Get the response time for the first answer of the questions with the tags ```python``` and ```java```.\n",
    "2. Plot the two distributions in an appropriate format. What do you observe? Describe your findings and discuss the following distribution properties: mean, median, standard deviation.\n",
    "3. We believe that the response time is lower for questions related to Python. Contradict or confirm this assumption by estimating the proper statistic with bootstrapping. Visualize the 95% confidence intervals with box plots and describe your findings.\n",
    "3. Repeat the first analysis (D1) by using the proper statistic to measure the response time for the tags that appear at least 5000 times. Plot the distribution of the 10 tags with the fastest response time.\n"
   ]
  },
  {
   "cell_type": "markdown",
   "metadata": {},
   "source": [
    "Task D - 1"
   ]
  },
  {
   "cell_type": "code",
   "execution_count": 2,
   "metadata": {},
   "outputs": [],
   "source": [
    "# Add your imports here\n",
    "# If memory is overloaded, you can load erase the variables, load the libraries and 'df_aligned.parquet' \n",
    "# which is the dataset with one tag per row\n",
    "\n",
    "#Clear memory to avoid overload\n",
    "%reset -f \n",
    "# If executed, you need to import the libraries/packages again\n",
    "import pandas as pd\n",
    "import numpy as np\n",
    "import seaborn as sns\n",
    "import scipy as sp\n",
    "import findspark\n",
    "sns.set()\n",
    "\n",
    "from pyspark.sql import *\n",
    "%matplotlib inline\n",
    "from datetime import datetime\n",
    "from dateutil.parser import parse\n",
    "import matplotlib.pyplot as plt\n",
    "from pyspark.sql.functions import col\n",
    "from pyspark.sql.functions import split, explode, udf\n",
    "from pyspark.sql.functions import unix_timestamp\n",
    "from pyspark.sql.functions import regexp_replace\n",
    "from pyspark.sql.functions import desc\n",
    "import pyspark.sql.functions as function\n",
    "spark = SparkSession.builder.getOrCreate()\n",
    "\n",
    "# Since the dataframe with tags exploded to rows is needed in the next questions, it makes sense to create a function\n",
    "# to do just that\n",
    "def align_tags(df):\n",
    "    # drop all rows where we don't have no tags since we're concerned by the questions tags.\n",
    "    df_questions = df.where(col(\"Tags\").isNotNull())\n",
    "    df_aligned = df_questions.withColumn('Tags_aligned',explode(split('Tags','><')))\n",
    "    df_aligned = df_aligned.withColumn(\"Tags_aligned\", regexp_replace(\"Tags_aligned\", \"<\", \"\"))\n",
    "    df_aligned = df_aligned.withColumn(\"Tags_aligned\", regexp_replace(\"Tags_aligned\", \">\", \"\"))\n",
    "    return df_aligned"
   ]
  },
  {
   "cell_type": "code",
   "execution_count": 3,
   "metadata": {},
   "outputs": [],
   "source": [
    "# Load the dataset from the Parquet file\n",
    "df = spark.read.parquet(\"df.parquet\")\n",
    "# Put every tag in a new row\n",
    "df_aligned = align_tags(df)"
   ]
  },
  {
   "cell_type": "code",
   "execution_count": 4,
   "metadata": {},
   "outputs": [],
   "source": [
    "# Get the answers:\n",
    "df_time_answer = df.where(col(\"ParentId\").isNotNull())"
   ]
  },
  {
   "cell_type": "code",
   "execution_count": 5,
   "metadata": {},
   "outputs": [
    {
     "name": "stdout",
     "output_type": "stream",
     "text": [
      "+------------+--------+--------------------+----------+\n",
      "|Tags_aligned|      Id|                Time|PostTypeId|\n",
      "+------------+--------+--------------------+----------+\n",
      "|       flash|45740348|2017-08-17 16:20:...|         1|\n",
      "|react-native|45740348|2017-08-17 16:20:...|         1|\n",
      "+------------+--------+--------------------+----------+\n",
      "only showing top 2 rows\n",
      "\n"
     ]
    }
   ],
   "source": [
    "df_time_questions = df_aligned.select(['Tags_aligned', 'Id', 'Time', 'PostTypeId'])\n",
    "df_time_questions.show(2)"
   ]
  },
  {
   "cell_type": "code",
   "execution_count": 41,
   "metadata": {},
   "outputs": [
    {
     "data": {
      "text/plain": [
       "46684801"
      ]
     },
     "execution_count": 41,
     "metadata": {},
     "output_type": "execute_result"
    }
   ],
   "source": [
    "df_time_questions.count() # Number of questions"
   ]
  },
  {
   "cell_type": "code",
   "execution_count": 42,
   "metadata": {},
   "outputs": [
    {
     "data": {
      "text/plain": [
       "15647060"
      ]
     },
     "execution_count": 42,
     "metadata": {},
     "output_type": "execute_result"
    }
   ],
   "source": [
    "df_time_questions.select(\"Id\").distinct().count() # each question Id is unique"
   ]
  },
  {
   "cell_type": "code",
   "execution_count": 43,
   "metadata": {},
   "outputs": [
    {
     "data": {
      "text/plain": [
       "14186282"
      ]
     },
     "execution_count": 43,
     "metadata": {},
     "output_type": "execute_result"
    }
   ],
   "source": [
    "df_time_answer.select(\"ParentId\").distinct().count() # This is the number of question for which we have at least one answer"
   ]
  },
  {
   "cell_type": "code",
   "execution_count": 44,
   "metadata": {},
   "outputs": [
    {
     "data": {
      "text/plain": [
       "25192772"
      ]
     },
     "execution_count": 44,
     "metadata": {},
     "output_type": "execute_result"
    }
   ],
   "source": [
    "df_time_answer.count() # number of answers"
   ]
  },
  {
   "cell_type": "code",
   "execution_count": 45,
   "metadata": {},
   "outputs": [
    {
     "name": "stdout",
     "output_type": "stream",
     "text": [
      "+--------------------+----------+--------+\n",
      "|         answer_time|PostTypeId|ParentId|\n",
      "+--------------------+----------+--------+\n",
      "|2017-08-17 16:20:...|         2|45740224|\n",
      "|2017-08-17 16:20:...|         2|45739185|\n",
      "|2017-08-17 16:20:...|         2|45739102|\n",
      "|2017-08-17 16:20:...|         2|42473616|\n",
      "|2017-08-17 16:20:...|         2|45668191|\n",
      "+--------------------+----------+--------+\n",
      "only showing top 5 rows\n",
      "\n"
     ]
    }
   ],
   "source": [
    "# For the answers I select the column I need\n",
    "df_time_answer = df_time_answer.select([col('Time').alias('answer_time'), 'PostTypeId', 'ParentId'])#, 'Time', 'Id', 'ParentId','PostTypeId'])\n",
    "df_time_answer.show(5)"
   ]
  },
  {
   "cell_type": "markdown",
   "metadata": {},
   "source": [
    "Once we have obtained the spark dataframe (let's call it df), we will procede in the following way: \n",
    "<br>\n",
    "1- For the questions dataframe filter all the rows according to ta \"Java\" and the \"Python\" tags<br>\n",
    "2- Select all the questions in a pandas dataframe, saving the corresponding data (*Time*) and *Id* <br>\n",
    "3- From the answers spark dataframe select all the first answers with the Ids corresponding to the list of Ids of the questions<br>\n",
    "5- Compute time difference "
   ]
  },
  {
   "cell_type": "code",
   "execution_count": 46,
   "metadata": {},
   "outputs": [],
   "source": [
    "# 1- Filter all the rows of the questions according to the \"Java\" and the \"Python\" tags and  \n",
    "df_time_questions_py_rdd = df_time_questions.rdd.filter(lambda r: r[0] == \"python\")\n",
    "df_time_questions_jv_rdd = df_time_questions.rdd.filter(lambda r: r[0] == \"java\")"
   ]
  },
  {
   "cell_type": "code",
   "execution_count": 47,
   "metadata": {},
   "outputs": [],
   "source": [
    "# Convert the RDD into a dataframe\n",
    "df_time_questions_py_df = df_time_questions_py_rdd.toDF()\n",
    "df_time_questions_jv_df = df_time_questions_jv_rdd.toDF()"
   ]
  },
  {
   "cell_type": "code",
   "execution_count": 48,
   "metadata": {
    "scrolled": true
   },
   "outputs": [],
   "source": [
    "# take intersection of question and answers dataframe based on ids which gives the dataframe containing\n",
    "# answers for every question\n",
    "df_time_answer_filter_py =df_time_answer.join(df_time_questions_py_df, df_time_answer.ParentId ==\n",
    "                                              df_time_questions_py_df.Id, 'inner')\n",
    "\n",
    "# for java tag\n",
    "df_time_answer_filter_jv =df_time_answer.join(df_time_questions_jv_df, df_time_answer.ParentId == \n",
    "                                              df_time_questions_jv_df.Id, 'inner')"
   ]
  },
  {
   "cell_type": "code",
   "execution_count": 49,
   "metadata": {},
   "outputs": [
    {
     "name": "stdout",
     "output_type": "stream",
     "text": [
      "+--------------------+----------+--------+------------+-----+--------------------+----------+\n",
      "|         answer_time|PostTypeId|ParentId|Tags_aligned|   Id|                Time|PostTypeId|\n",
      "+--------------------+----------+--------+------------+-----+--------------------+----------+\n",
      "|2012-03-29 02:52:...|         2|   39104|      python|39104|2008-09-02 09:40:...|         1|\n",
      "|2008-09-02 11:43:...|         2|   39104|      python|39104|2008-09-02 09:40:...|         1|\n",
      "|2008-09-02 14:26:...|         2|   39104|      python|39104|2008-09-02 09:40:...|         1|\n",
      "|2008-09-18 15:06:...|         2|   92620|      python|92620|2008-09-18 13:41:...|         1|\n",
      "|2008-09-18 15:06:...|         2|   92620|      python|92620|2008-09-18 13:41:...|         1|\n",
      "+--------------------+----------+--------+------------+-----+--------------------+----------+\n",
      "only showing top 5 rows\n",
      "\n"
     ]
    }
   ],
   "source": [
    "df_time_answer_filter_py.show(5)"
   ]
  },
  {
   "cell_type": "code",
   "execution_count": 50,
   "metadata": {},
   "outputs": [],
   "source": [
    "# calculate the response time for python tagged\n",
    "resp_time_py = unix_timestamp(df_time_answer_filter_py.answer_time) - unix_timestamp(df_time_answer_filter_py.Time)\n",
    "\n",
    "#for java tag\n",
    "resp_time_jv = unix_timestamp(df_time_answer_filter_jv.answer_time) - unix_timestamp(df_time_answer_filter_jv.Time)"
   ]
  },
  {
   "cell_type": "code",
   "execution_count": 51,
   "metadata": {},
   "outputs": [
    {
     "name": "stdout",
     "output_type": "stream",
     "text": [
      "+--------------------+----------+--------+------------+-----+--------------------+----------+-------------+\n",
      "|         answer_time|PostTypeId|ParentId|Tags_aligned|   Id|                Time|PostTypeId|response_time|\n",
      "+--------------------+----------+--------+------------+-----+--------------------+----------+-------------+\n",
      "|2012-03-29 02:52:...|         2|   39104|      python|39104|2008-09-02 09:40:...|         1|    112641136|\n",
      "|2008-09-02 11:43:...|         2|   39104|      python|39104|2008-09-02 09:40:...|         1|         7399|\n",
      "|2008-09-02 14:26:...|         2|   39104|      python|39104|2008-09-02 09:40:...|         1|        17141|\n",
      "+--------------------+----------+--------+------------+-----+--------------------+----------+-------------+\n",
      "only showing top 3 rows\n",
      "\n"
     ]
    }
   ],
   "source": [
    "# add response time column for python tag\n",
    "df_time_answer_filter_py = df_time_answer_filter_py.withColumn('response_time' , resp_time_py)\n",
    "df_time_answer_filter_py.show(3)"
   ]
  },
  {
   "cell_type": "code",
   "execution_count": 52,
   "metadata": {},
   "outputs": [
    {
     "name": "stdout",
     "output_type": "stream",
     "text": [
      "+--------------------+----------+--------+------------+-----+--------------------+----------+-------------+\n",
      "|         answer_time|PostTypeId|ParentId|Tags_aligned|   Id|                Time|PostTypeId|response_time|\n",
      "+--------------------+----------+--------+------------+-----+--------------------+----------+-------------+\n",
      "|2008-12-21 00:07:...|         2|   30428|        java|30428|2008-08-27 15:21:...|         1|      9971142|\n",
      "|2008-10-29 17:56:...|         2|   30428|        java|30428|2008-08-27 15:21:...|         1|      5456073|\n",
      "|2008-11-11 03:00:...|         2|   30428|        java|30428|2008-08-27 15:21:...|         1|      6525566|\n",
      "+--------------------+----------+--------+------------+-----+--------------------+----------+-------------+\n",
      "only showing top 3 rows\n",
      "\n"
     ]
    }
   ],
   "source": [
    "# add response time column for java tag\n",
    "df_time_answer_filter_jv = df_time_answer_filter_jv.withColumn('response_time' , resp_time_jv)\n",
    "df_time_answer_filter_jv.show(3)"
   ]
  },
  {
   "cell_type": "code",
   "execution_count": 53,
   "metadata": {},
   "outputs": [
    {
     "name": "stdout",
     "output_type": "stream",
     "text": [
      "+--------+------------------+\n",
      "|ParentId|min(response_time)|\n",
      "+--------+------------------+\n",
      "|   39104|              7399|\n",
      "|   92620|              5089|\n",
      "|  116139|               511|\n",
      "+--------+------------------+\n",
      "only showing top 3 rows\n",
      "\n"
     ]
    }
   ],
   "source": [
    "# minimum  represents quickest response out of all responses\n",
    "min_time_py = df_time_answer_filter_py.groupby('ParentId').agg({'response_time' : 'min'})\n",
    "min_time_py.show(3)"
   ]
  },
  {
   "cell_type": "code",
   "execution_count": 54,
   "metadata": {},
   "outputs": [
    {
     "name": "stdout",
     "output_type": "stream",
     "text": [
      "+--------+------------------+\n",
      "|ParentId|min(response_time)|\n",
      "+--------+------------------+\n",
      "|   30428|              1922|\n",
      "|   37310|               439|\n",
      "|   55709|               290|\n",
      "+--------+------------------+\n",
      "only showing top 3 rows\n",
      "\n"
     ]
    }
   ],
   "source": [
    "# minimum  represents quickest response out of all responses\n",
    "min_time_jv = df_time_answer_filter_jv.groupby('ParentId').agg({'response_time' : 'min'})\n",
    "min_time_jv.show(3)"
   ]
  },
  {
   "cell_type": "code",
   "execution_count": 55,
   "metadata": {},
   "outputs": [],
   "source": [
    "python_resp_pd = min_time_py.toPandas() \n",
    "java_resp_pd = min_time_jv.toPandas()"
   ]
  },
  {
   "cell_type": "markdown",
   "metadata": {},
   "source": [
    "D - 2\n",
    "Plot the two distributions in an appropriate format. What do you observe? Describe your findings and discuss the following distribution properties: mean, median, standard deviation."
   ]
  },
  {
   "cell_type": "code",
   "execution_count": 56,
   "metadata": {},
   "outputs": [
    {
     "data": {
      "text/html": [
       "<div>\n",
       "<style scoped>\n",
       "    .dataframe tbody tr th:only-of-type {\n",
       "        vertical-align: middle;\n",
       "    }\n",
       "\n",
       "    .dataframe tbody tr th {\n",
       "        vertical-align: top;\n",
       "    }\n",
       "\n",
       "    .dataframe thead th {\n",
       "        text-align: right;\n",
       "    }\n",
       "</style>\n",
       "<table border=\"1\" class=\"dataframe\">\n",
       "  <thead>\n",
       "    <tr style=\"text-align: right;\">\n",
       "      <th></th>\n",
       "      <th>ParentId</th>\n",
       "      <th>min(response_time)</th>\n",
       "    </tr>\n",
       "  </thead>\n",
       "  <tbody>\n",
       "    <tr>\n",
       "      <th>count</th>\n",
       "      <td>8.301600e+05</td>\n",
       "      <td>8.301600e+05</td>\n",
       "    </tr>\n",
       "    <tr>\n",
       "      <th>mean</th>\n",
       "      <td>3.109707e+07</td>\n",
       "      <td>9.808257e+05</td>\n",
       "    </tr>\n",
       "    <tr>\n",
       "      <th>std</th>\n",
       "      <td>1.454786e+07</td>\n",
       "      <td>6.900002e+06</td>\n",
       "    </tr>\n",
       "    <tr>\n",
       "      <th>min</th>\n",
       "      <td>4.690000e+02</td>\n",
       "      <td>-1.052941e+08</td>\n",
       "    </tr>\n",
       "    <tr>\n",
       "      <th>25%</th>\n",
       "      <td>1.974593e+07</td>\n",
       "      <td>4.220000e+02</td>\n",
       "    </tr>\n",
       "    <tr>\n",
       "      <th>50%</th>\n",
       "      <td>3.324952e+07</td>\n",
       "      <td>1.347000e+03</td>\n",
       "    </tr>\n",
       "    <tr>\n",
       "      <th>75%</th>\n",
       "      <td>4.387570e+07</td>\n",
       "      <td>9.496000e+03</td>\n",
       "    </tr>\n",
       "    <tr>\n",
       "      <th>max</th>\n",
       "      <td>5.213415e+07</td>\n",
       "      <td>2.464575e+08</td>\n",
       "    </tr>\n",
       "  </tbody>\n",
       "</table>\n",
       "</div>"
      ],
      "text/plain": [
       "           ParentId  min(response_time)\n",
       "count  8.301600e+05        8.301600e+05\n",
       "mean   3.109707e+07        9.808257e+05\n",
       "std    1.454786e+07        6.900002e+06\n",
       "min    4.690000e+02       -1.052941e+08\n",
       "25%    1.974593e+07        4.220000e+02\n",
       "50%    3.324952e+07        1.347000e+03\n",
       "75%    4.387570e+07        9.496000e+03\n",
       "max    5.213415e+07        2.464575e+08"
      ]
     },
     "execution_count": 56,
     "metadata": {},
     "output_type": "execute_result"
    }
   ],
   "source": [
    "python_resp_pd.describe()"
   ]
  },
  {
   "cell_type": "code",
   "execution_count": 64,
   "metadata": {},
   "outputs": [
    {
     "data": {
      "text/plain": [
       "<matplotlib.axes._subplots.AxesSubplot at 0x7f83963ce8d0>"
      ]
     },
     "execution_count": 64,
     "metadata": {},
     "output_type": "execute_result"
    },
    {
     "data": {
      "image/png": "[encoded data removed]",
      "text/plain": [
       "<Figure size 432x288 with 1 Axes>"
      ]
     },
     "metadata": {
      "needs_background": "light"
     },
     "output_type": "display_data"
    }
   ],
   "source": [
    "sns.distplot(python_resp_pd.iloc[:,1], bins=50, axlabel = 'response time',kde=False)"
   ]
  },
  {
   "cell_type": "code",
   "execution_count": 65,
   "metadata": {},
   "outputs": [
    {
     "data": {
      "text/html": [
       "<div>\n",
       "<style scoped>\n",
       "    .dataframe tbody tr th:only-of-type {\n",
       "        vertical-align: middle;\n",
       "    }\n",
       "\n",
       "    .dataframe tbody tr th {\n",
       "        vertical-align: top;\n",
       "    }\n",
       "\n",
       "    .dataframe thead th {\n",
       "        text-align: right;\n",
       "    }\n",
       "</style>\n",
       "<table border=\"1\" class=\"dataframe\">\n",
       "  <thead>\n",
       "    <tr style=\"text-align: right;\">\n",
       "      <th></th>\n",
       "      <th>ParentId</th>\n",
       "      <th>min(response_time)</th>\n",
       "    </tr>\n",
       "  </thead>\n",
       "  <tbody>\n",
       "    <tr>\n",
       "      <th>count</th>\n",
       "      <td>1.179070e+06</td>\n",
       "      <td>1.179070e+06</td>\n",
       "    </tr>\n",
       "    <tr>\n",
       "      <th>mean</th>\n",
       "      <td>2.581939e+07</td>\n",
       "      <td>9.966370e+05</td>\n",
       "    </tr>\n",
       "    <tr>\n",
       "      <th>std</th>\n",
       "      <td>1.417118e+07</td>\n",
       "      <td>7.127989e+06</td>\n",
       "    </tr>\n",
       "    <tr>\n",
       "      <th>min</th>\n",
       "      <td>1.230000e+02</td>\n",
       "      <td>-9.986573e+07</td>\n",
       "    </tr>\n",
       "    <tr>\n",
       "      <th>25%</th>\n",
       "      <td>1.382513e+07</td>\n",
       "      <td>3.940000e+02</td>\n",
       "    </tr>\n",
       "    <tr>\n",
       "      <th>50%</th>\n",
       "      <td>2.571343e+07</td>\n",
       "      <td>1.218000e+03</td>\n",
       "    </tr>\n",
       "    <tr>\n",
       "      <th>75%</th>\n",
       "      <td>3.732461e+07</td>\n",
       "      <td>9.552000e+03</td>\n",
       "    </tr>\n",
       "    <tr>\n",
       "      <th>max</th>\n",
       "      <td>5.213414e+07</td>\n",
       "      <td>2.985367e+08</td>\n",
       "    </tr>\n",
       "  </tbody>\n",
       "</table>\n",
       "</div>"
      ],
      "text/plain": [
       "           ParentId  min(response_time)\n",
       "count  1.179070e+06        1.179070e+06\n",
       "mean   2.581939e+07        9.966370e+05\n",
       "std    1.417118e+07        7.127989e+06\n",
       "min    1.230000e+02       -9.986573e+07\n",
       "25%    1.382513e+07        3.940000e+02\n",
       "50%    2.571343e+07        1.218000e+03\n",
       "75%    3.732461e+07        9.552000e+03\n",
       "max    5.213414e+07        2.985367e+08"
      ]
     },
     "execution_count": 65,
     "metadata": {},
     "output_type": "execute_result"
    }
   ],
   "source": [
    "java_resp_pd.describe()"
   ]
  },
  {
   "cell_type": "code",
   "execution_count": 68,
   "metadata": {},
   "outputs": [
    {
     "data": {
      "text/plain": [
       "<matplotlib.axes._subplots.AxesSubplot at 0x7f8395d65e48>"
      ]
     },
     "execution_count": 68,
     "metadata": {},
     "output_type": "execute_result"
    },
    {
     "data": {
      "image/png": "[encoded data removed]",
      "text/plain": [
       "<Figure size 432x288 with 1 Axes>"
      ]
     },
     "metadata": {
      "needs_background": "light"
     },
     "output_type": "display_data"
    }
   ],
   "source": [
    "sns.distplot(java_resp_pd.iloc[:,1],bins=50, axlabel = 'response time', kde = False)"
   ]
  },
  {
   "cell_type": "markdown",
   "metadata": {},
   "source": [
    "We believe that the response time is lower for questions related to Python. Contradict or confirm this assumption by estimating the proper statistic with bootstrapping. Visualize the 95% confidence intervals with box plots and describe your findings."
   ]
  },
  {
   "cell_type": "code",
   "execution_count": 69,
   "metadata": {},
   "outputs": [
    {
     "name": "stdout",
     "output_type": "stream",
     "text": [
      "+--------------------+----------+--------+------------+-----+--------------------+----------+-------------+\n",
      "|         answer_time|PostTypeId|ParentId|Tags_aligned|   Id|                Time|PostTypeId|response_time|\n",
      "+--------------------+----------+--------+------------+-----+--------------------+----------+-------------+\n",
      "|2012-03-29 02:52:...|         2|   39104|      python|39104|2008-09-02 09:40:...|         1|    112641136|\n",
      "+--------------------+----------+--------+------------+-----+--------------------+----------+-------------+\n",
      "only showing top 1 row\n",
      "\n"
     ]
    }
   ],
   "source": [
    "df_time_answer_filter_py.show(1)"
   ]
  },
  {
   "cell_type": "code",
   "execution_count": 70,
   "metadata": {},
   "outputs": [
    {
     "data": {
      "text/plain": [
       "DataFrame[response_time: bigint]"
      ]
     },
     "execution_count": 70,
     "metadata": {},
     "output_type": "execute_result"
    }
   ],
   "source": [
    "df_time_answer_filter_py.select('response_time').sample(True,0.9999,2)"
   ]
  },
  {
   "cell_type": "code",
   "execution_count": 71,
   "metadata": {},
   "outputs": [],
   "source": [
    "mean = df_time_answer_filter_py.groupby().avg('response_time').collect()"
   ]
  },
  {
   "cell_type": "code",
   "execution_count": 2,
   "metadata": {},
   "outputs": [],
   "source": [
    "from pyspark.sql.functions import mean as _mean, stddev as _stddev, col\n",
    "def bootstrap(df):\n",
    "    means = []\n",
    "    lower_bound_ci = []\n",
    "    upper_bound_ci = []\n",
    "    for i in range(2):\n",
    "        df = df.sample(True,fraction=0.9999,seed=7)\n",
    "        sample_size = df.count()\n",
    "        \n",
    "        df_stats = df.select(_mean(col('response_time')).alias('mean'),\n",
    "                             _stddev(col('response_time')).alias('std')).collect()\n",
    "        mean = df_stats[0]['mean']\n",
    "        std = df_stats[0]['std']\n",
    "        \n",
    "        x1 = mean - 1.96*std/sample_size  #follows normal distribution since sample size is very large(central limit theorem)\n",
    "        x2 = mean - 1.96*std/sample_size  #for cI = 95%, z=1.96 from above assumption\n",
    "    \n",
    "    lower_bound_ci.append(x1) \n",
    "    upper_bound_ci.append(x2)\n",
    "    means.append(mean)\n",
    "    return means, lower_bound_ci, upper_bound_ci"
   ]
  },
  {
   "cell_type": "code",
   "execution_count": null,
   "metadata": {},
   "outputs": [],
   "source": [
    "means_py,l1,l2 = bootstrap(min_time_py.select('min(response_time').alias('response_time'))\n",
    "#means_jv = bootstrap(min_time_jv.select('response_time'))"
   ]
  },
  {
   "cell_type": "code",
   "execution_count": 74,
   "metadata": {},
   "outputs": [
    {
     "ename": "NameError",
     "evalue": "name 'means_py' is not defined",
     "output_type": "error",
     "traceback": [
      "\u001b[0;31m---------------------------------------------------------------------------\u001b[0m",
      "\u001b[0;31mNameError\u001b[0m                                 Traceback (most recent call last)",
      "\u001b[0;32m<ipython-input-74-e65a568ecf45>\u001b[0m in \u001b[0;36m<module>\u001b[0;34m\u001b[0m\n\u001b[0;32m----> 1\u001b[0;31m \u001b[0msns\u001b[0m\u001b[0;34m.\u001b[0m\u001b[0mboxplot\u001b[0m\u001b[0;34m(\u001b[0m\u001b[0mmeans_py\u001b[0m\u001b[0;34m)\u001b[0m\u001b[0;34m\u001b[0m\u001b[0m\n\u001b[0m",
      "\u001b[0;31mNameError\u001b[0m: name 'means_py' is not defined"
     ]
    }
   ],
   "source": [
    "sns.boxplot(means_py)"
   ]
  },
  {
   "cell_type": "code",
   "execution_count": null,
   "metadata": {},
   "outputs": [],
   "source": [
    "sns.boxplot(means_jv)"
   ]
  },
  {
   "cell_type": "markdown",
   "metadata": {},
   "source": [
    "Conclude here about the boxplots and whether python response time is lower"
   ]
  },
  {
   "cell_type": "markdown",
   "metadata": {},
   "source": [
    "Repeat the first analysis (D1) by using the proper statistic to measure the response time for the tags that appear at least 5000 times. Plot the distribution of the 10 tags with the fastest response time."
   ]
  },
  {
   "cell_type": "code",
   "execution_count": null,
   "metadata": {},
   "outputs": [],
   "source": [
    "df_time_questions = df_time_questions.groupby('newTags'.'ParentId').count().withColumnRenamed('count','cnt')                                                                            "
   ]
  },
  {
   "cell_type": "code",
   "execution_count": null,
   "metadata": {},
   "outputs": [],
   "source": [
    "df_time_questions.show(4)"
   ]
  },
  {
   "cell_type": "code",
   "execution_count": null,
   "metadata": {},
   "outputs": [],
   "source": [
    "df_time_questions = df_time_questions.filter(df_time_questions.cnt > 5000)"
   ]
  },
  {
   "cell_type": "code",
   "execution_count": null,
   "metadata": {},
   "outputs": [],
   "source": [
    "# take intersection of question and answers dataframe based on ids which gives the dataframe containing\n",
    "# answers for every questions\n",
    "df_time_answer_filter =df_time_answer.join(df_time_questions, df_time_answer.ParentId ==\n",
    "                                              df_time_questions_py_df.Id, 'inner')\n",
    "\n",
    "# calculate the response time\n",
    "resp_time = unix_timestamp(df_time_answer_filter.answer_time) - unix_timestamp(df_time_answer_filter.Time)\n",
    "\n",
    "# add response time column \n",
    "df_time_answer_filter = df_time_answer_filter_py.withColumn('response_time' , resp_time)\n",
    "\n",
    "# minimum  represents quickest response out of all responses\n",
    "min_time = df_time_answer_filter.groupby('ParentId').agg({'response_time' : 'min'}).orderBy('min(response_time)')"
   ]
  },
  {
   "cell_type": "code",
   "execution_count": null,
   "metadata": {},
   "outputs": [],
   "source": [
    "resp_pd = min_time.toPandas() "
   ]
  },
  {
   "cell_type": "code",
   "execution_count": null,
   "metadata": {},
   "outputs": [],
   "source": [
    "sns.distplot(resp_pd.iloc[:10,1], axlabel = 'response time', kde = True)"
   ]
  },
  {
   "cell_type": "markdown",
   "metadata": {},
   "source": [
    "### Task E: What's up with PySpark?\n",
    "The number of questions asked regarding a specific topic reflect the public’s interest on it. We are interested on the popularity of PySpark. Compute and plot the number of questions with the ```pyspark``` tag for 30-day time intervals. Do you notice any trend over time? Is there any correlation between time and number of questions?\n"
   ]
  },
  {
   "cell_type": "code",
   "execution_count": 79,
   "metadata": {},
   "outputs": [],
   "source": [
    "# Add your imports here\n",
    "# If memory is overloaded, you can load erase the variables, load the libraries and 'df_aligned.parquet' \n",
    "# which is the dataset with one tag per row\n",
    "\n",
    "#Clear memory to avoid overload\n",
    "%reset -f \n",
    "# If executed, you need to import the libraries/packages again\n",
    "import pandas as pd\n",
    "import numpy as np\n",
    "import seaborn as sns\n",
    "import scipy as sp\n",
    "import findspark\n",
    "sns.set()\n",
    "\n",
    "from pyspark.sql import *\n",
    "%matplotlib inline\n",
    "from datetime import datetime\n",
    "from dateutil.parser import parse\n",
    "import matplotlib.pyplot as plt\n",
    "from pyspark.sql.functions import col\n",
    "from pyspark.sql.functions import split, explode, udf\n",
    "from pyspark.sql.functions import unix_timestamp\n",
    "from pyspark.sql.functions import regexp_replace\n",
    "from pyspark.sql.functions import desc\n",
    "import pyspark.sql.functions as function\n",
    "spark = SparkSession.builder.getOrCreate()\n",
    "\n",
    "# Since the dataframe with tags exploded to rows is needed in the next questions, it makes sense to create a function\n",
    "# to do just that\n",
    "def align_tags(df):\n",
    "    # drop all rows where we don't have no tags since we're concerned by the questions tags.\n",
    "    df_questions = df.where(col(\"Tags\").isNotNull())\n",
    "    df_aligned = df_questions.withColumn('Tags_aligned',explode(split('Tags','><')))\n",
    "    df_aligned = df_aligned.withColumn(\"Tags_aligned\", regexp_replace(\"Tags_aligned\", \"<\", \"\"))\n",
    "    df_aligned = df_aligned.withColumn(\"Tags_aligned\", regexp_replace(\"Tags_aligned\", \">\", \"\"))\n",
    "    return df_aligned"
   ]
  },
  {
   "cell_type": "code",
   "execution_count": 80,
   "metadata": {},
   "outputs": [],
   "source": [
    "# Load the dataset from the Parquet file\n",
    "df =spark.read.parquet(\"df.parquet\")\n",
    "# Put every tag in a new row\n",
    "df_aligned = align_tags(df)"
   ]
  },
  {
   "cell_type": "code",
   "execution_count": 83,
   "metadata": {},
   "outputs": [],
   "source": [
    "# Select the column we are interested in \n",
    "df_newtags = df_aligned.select(['ViewCount', 'Time', 'Tags_aligned', 'PostTypeId'])"
   ]
  },
  {
   "cell_type": "code",
   "execution_count": 86,
   "metadata": {},
   "outputs": [],
   "source": [
    "# Select only the questions with pyspark tag\n",
    "df_newtags = df_newtags.filter((df_newtags.Tags_aligned == 'pyspark') & (df_newtags.PostTypeId == '1'))"
   ]
  },
  {
   "cell_type": "code",
   "execution_count": 87,
   "metadata": {},
   "outputs": [
    {
     "name": "stdout",
     "output_type": "stream",
     "text": [
      "+---------+--------------------+------------+----------+\n",
      "|ViewCount|                Time|Tags_aligned|PostTypeId|\n",
      "+---------+--------------------+------------+----------+\n",
      "|      123|2017-08-17 16:40:...|     pyspark|         1|\n",
      "|     1703|2017-08-17 20:36:...|     pyspark|         1|\n",
      "|     3589|2016-08-03 08:10:...|     pyspark|         1|\n",
      "+---------+--------------------+------------+----------+\n",
      "only showing top 3 rows\n",
      "\n"
     ]
    }
   ],
   "source": [
    "df_newtags.show(3)"
   ]
  },
  {
   "cell_type": "code",
   "execution_count": 88,
   "metadata": {},
   "outputs": [],
   "source": [
    "# convert the time into timestamp i,e. number of seconds elapsed after 1st Jan 1970\n",
    "df_newtags = df_newtags.withColumn('unixtime', unix_timestamp(df_newtags.Time)).orderBy('unixtime')"
   ]
  },
  {
   "cell_type": "code",
   "execution_count": 89,
   "metadata": {},
   "outputs": [
    {
     "name": "stdout",
     "output_type": "stream",
     "text": [
      "+---------+--------------------+------------+----------+----------+\n",
      "|ViewCount|                Time|Tags_aligned|PostTypeId|  unixtime|\n",
      "+---------+--------------------+------------+----------+----------+\n",
      "|    95048|2014-04-23 22:40:...|     pyspark|         1|1398285614|\n",
      "|    62219|2014-08-07 22:48:...|     pyspark|         1|1407444538|\n",
      "|    27069|2014-10-02 09:07:...|     pyspark|         1|1412233634|\n",
      "+---------+--------------------+------------+----------+----------+\n",
      "only showing top 3 rows\n",
      "\n"
     ]
    }
   ],
   "source": [
    "df_newtags.show(3)"
   ]
  },
  {
   "cell_type": "code",
   "execution_count": 90,
   "metadata": {},
   "outputs": [],
   "source": [
    "# beginning_time denotes time of first question posted on pyspark\n",
    "beginning_time = df_newtags.agg({'unixtime' : 'min'}).collect()[0]"
   ]
  },
  {
   "cell_type": "code",
   "execution_count": 91,
   "metadata": {},
   "outputs": [],
   "source": [
    "# 30 days equal to 2592000 in unix timestamp\n",
    "dur = 2592000"
   ]
  },
  {
   "cell_type": "code",
   "execution_count": 92,
   "metadata": {},
   "outputs": [],
   "source": [
    "# Compute discrete intervals by subtracting beginning_time from unixtime and dividing by dur which is equivalent to\n",
    "# 30 days \n",
    "df_newtags = df_newtags.withColumn('interval',function.floor((df_newtags.unixtime-\n",
    "                                                              beginning_time['min(unixtime)'])/dur))"
   ]
  },
  {
   "cell_type": "code",
   "execution_count": 93,
   "metadata": {},
   "outputs": [
    {
     "name": "stdout",
     "output_type": "stream",
     "text": [
      "+---------+--------------------+------------+----------+----------+--------+\n",
      "|ViewCount|                Time|Tags_aligned|PostTypeId|  unixtime|interval|\n",
      "+---------+--------------------+------------+----------+----------+--------+\n",
      "|    95048|2014-04-23 22:40:...|     pyspark|         1|1398285614|       0|\n",
      "|    62219|2014-08-07 22:48:...|     pyspark|         1|1407444538|       3|\n",
      "|    27069|2014-10-02 09:07:...|     pyspark|         1|1412233634|       5|\n",
      "|     2255|2014-10-18 19:42:...|     pyspark|         1|1413654137|       5|\n",
      "+---------+--------------------+------------+----------+----------+--------+\n",
      "only showing top 4 rows\n",
      "\n"
     ]
    }
   ],
   "source": [
    "df_newtags.show(4)"
   ]
  },
  {
   "cell_type": "code",
   "execution_count": 94,
   "metadata": {},
   "outputs": [],
   "source": [
    "# group by interval and count the entries in each group, which gives number of questions posted on pyspark \n",
    "# in that interval\n",
    "df_interval_count = df_newtags.groupby('interval').count()"
   ]
  },
  {
   "cell_type": "code",
   "execution_count": 95,
   "metadata": {},
   "outputs": [
    {
     "name": "stdout",
     "output_type": "stream",
     "text": [
      "+--------+-----+\n",
      "|interval|count|\n",
      "+--------+-----+\n",
      "|      26|  228|\n",
      "|      29|  203|\n",
      "|      19|  150|\n",
      "+--------+-----+\n",
      "only showing top 3 rows\n",
      "\n"
     ]
    }
   ],
   "source": [
    "df_interval_count.show(3)"
   ]
  },
  {
   "cell_type": "code",
   "execution_count": 96,
   "metadata": {},
   "outputs": [],
   "source": [
    "#convert to pandas dataframe\n",
    "pyspark_time_pd = df_interval_count.toPandas()"
   ]
  },
  {
   "cell_type": "code",
   "execution_count": 97,
   "metadata": {
    "scrolled": true
   },
   "outputs": [
    {
     "name": "stderr",
     "output_type": "stream",
     "text": [
      "'c' argument looks like a single numeric RGB or RGBA sequence, which should be avoided as value-mapping will have precedence in case its length matches with 'x' & 'y'.  Please use a 2-D array with a single row if you really want to specify the same RGB or RGBA value for all points.\n"
     ]
    },
    {
     "data": {
      "text/plain": [
       "<matplotlib.axes._subplots.AxesSubplot at 0x7f839563de80>"
      ]
     },
     "execution_count": 97,
     "metadata": {},
     "output_type": "execute_result"
    },
    {
     "data": {
      "image/png": "[encoded data removed]",
      "text/plain": [
       "<Figure size 432x288 with 1 Axes>"
      ]
     },
     "metadata": {
      "needs_background": "light"
     },
     "output_type": "display_data"
    }
   ],
   "source": [
    "pyspark_time_pd.plot.scatter(x='interval', y='count')"
   ]
  },
  {
   "cell_type": "code",
   "execution_count": 98,
   "metadata": {},
   "outputs": [
    {
     "data": {
      "text/html": [
       "<div>\n",
       "<style scoped>\n",
       "    .dataframe tbody tr th:only-of-type {\n",
       "        vertical-align: middle;\n",
       "    }\n",
       "\n",
       "    .dataframe tbody tr th {\n",
       "        vertical-align: top;\n",
       "    }\n",
       "\n",
       "    .dataframe thead th {\n",
       "        text-align: right;\n",
       "    }\n",
       "</style>\n",
       "<table border=\"1\" class=\"dataframe\">\n",
       "  <thead>\n",
       "    <tr style=\"text-align: right;\">\n",
       "      <th></th>\n",
       "      <th>interval</th>\n",
       "      <th>count</th>\n",
       "    </tr>\n",
       "  </thead>\n",
       "  <tbody>\n",
       "    <tr>\n",
       "      <th>interval</th>\n",
       "      <td>1.000000</td>\n",
       "      <td>0.880143</td>\n",
       "    </tr>\n",
       "    <tr>\n",
       "      <th>count</th>\n",
       "      <td>0.880143</td>\n",
       "      <td>1.000000</td>\n",
       "    </tr>\n",
       "  </tbody>\n",
       "</table>\n",
       "</div>"
      ],
      "text/plain": [
       "          interval     count\n",
       "interval  1.000000  0.880143\n",
       "count     0.880143  1.000000"
      ]
     },
     "execution_count": 98,
     "metadata": {},
     "output_type": "execute_result"
    }
   ],
   "source": [
    "pyspark_time_pd.corr()"
   ]
  },
  {
   "cell_type": "markdown",
   "metadata": {},
   "source": [
    "Yes there is a positive correlation of 0.88 between number of questions posted on pyspark with the time. We can see from the plot that as the time passed, the popularity of pyspark has increased.\n",
    "Also there is a single point in 53th interval which has number of questions quite low, this is because it is the last interval and it is truncated i.e. it does not contain the whole of 30 days."
   ]
  }
 ],
 "metadata": {
  "kernelspec": {
   "display_name": "Python 3",
   "language": "python",
   "name": "python3"
  },
  "language_info": {
   "codemirror_mode": {
    "name": "ipython",
    "version": 3
   },
   "file_extension": ".py",
   "mimetype": "text/x-python",
   "name": "python",
   "nbconvert_exporter": "python",
   "pygments_lexer": "ipython3",
   "version": "3.6.5"
  }
 },
 "nbformat": 4,
 "nbformat_minor": 2
}
